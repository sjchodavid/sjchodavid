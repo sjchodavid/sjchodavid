{
 "cells": [
  {
   "cell_type": "markdown",
   "metadata": {},
   "source": [
    "## Visualization\n",
    "### Function draw_geometries\n",
    "Open3D provides a convenient visualization function **draw_geometries** which takes a list of geometry objects (**PointCloud**, **TriangleMesh**, or **Image**), and renders them together. We have implemented many functions in the visualizer, such as rotation, translation, and scaling via mouse operations, changing rendering style, and screen capture. Press **H** inside the window to print out a comprehensive list of functions."
   ]
  },
  {
   "cell_type": "code",
   "execution_count": 1,
   "metadata": {},
   "outputs": [],
   "source": [
    "import open3d as o3d \n",
    "import numpy as np \n",
    "import matplotlib.pyplot as plt"
   ]
  },
  {
   "cell_type": "code",
   "execution_count": 2,
   "metadata": {},
   "outputs": [
    {
     "output_type": "stream",
     "name": "stdout",
     "text": [
      "Load a ply point cloud, print it, and render it\n"
     ]
    }
   ],
   "source": [
    "print(\"Load a ply point cloud, print it, and render it\")\n",
    "pcd = o3d.io.read_point_cloud(\"fragment.ply\")\n",
    "o3d.visualization.draw_geometries([pcd],\n",
    "                                  zoom=0.3412,\n",
    "                                  front=[0.4257, -0.2125, -0.8795],\n",
    "                                  lookat=[2.6172, 2.0475, 1.532],\n",
    "                                  up=[-0.0694, -0.9768, 0.2024])"
   ]
  },
  {
   "cell_type": "markdown",
   "metadata": {},
   "source": [
    "### Rendering styles\n",
    "Open3D **Visualizer** supports several rendering styles. For example, pressing **L** will switch between a Phong lighting and a simple color rendering. Pressing **2** shows points colored based on their x-coordinate.\n",
    "\n",
    "The color map can also be adjusted by, for example, pressing **Shift + 4**. This changes jet color map to hot color map."
   ]
  },
  {
   "cell_type": "markdown",
   "metadata": {},
   "source": [
    "### Geometry primitives\n",
    "The code below generates a box, a sphere, and a cylinder using **create_box**, **create_sphere**, and **create_cylinder**. The box is painted in red, the sphere is painted in blue, and the cylinder is painted in green. Normals are computed for all meshes to support Phong shading (see [Visualize 3D mesh](http://www.open3d.org/docs/release/tutorial/visualization/mesh.ipynb#visualize-a-3d-mesh) and [Surface normal estimation](http://www.open3d.org/docs/release/tutorial/visualization/mesh.ipynb#surface-normal-estimation)). We can even create a coordinate axis using **create_mesh_coordinate_frame**, with its origin point set at (-2, -2, -2)."
   ]
  },
  {
   "cell_type": "code",
   "execution_count": 7,
   "metadata": {},
   "outputs": [
    {
     "name": "stdout",
     "output_type": "stream",
     "text": [
      "Let's define some primitives\n"
     ]
    }
   ],
   "source": [
    "print(\"Let's define some primitives\")\n",
    "mesh_box = o3d.geometry.TriangleMesh.create_box(width=1.0,\n",
    "                                                height=1.0,\n",
    "                                                depth=1.0)\n",
    "mesh_box.compute_vertex_normals()\n",
    "mesh_box.paint_uniform_color([0.9, 0.1, 0.1])\n",
    "mesh_sphere = o3d.geometry.TriangleMesh.create_sphere(radius=1.0)\n",
    "mesh_sphere.compute_vertex_normals()\n",
    "mesh_sphere.paint_uniform_color([0.1, 0.1, 0.7])\n",
    "mesh_cylinder = o3d.geometry.TriangleMesh.create_cylinder(radius=0.3,\n",
    "                                                          height=4.0)\n",
    "mesh_cylinder.compute_vertex_normals()\n",
    "mesh_cylinder.paint_uniform_color([0.1, 0.9, 0.1])\n",
    "mesh_frame = o3d.geometry.TriangleMesh.create_coordinate_frame(\n",
    "    size=0.6, origin=[-2, -2, -2])"
   ]
  },
  {
   "cell_type": "code",
   "execution_count": 8,
   "metadata": {},
   "outputs": [
    {
     "name": "stdout",
     "output_type": "stream",
     "text": [
      "We draw a few primitives using collection.\n",
      "We draw a few primitives using + operator of mesh.\n"
     ]
    }
   ],
   "source": [
    "print(\"We draw a few primitives using collection.\")\n",
    "o3d.visualization.draw_geometries(\n",
    "    [mesh_box, mesh_sphere, mesh_cylinder, mesh_frame])\n",
    "\n",
    "print(\"We draw a few primitives using + operator of mesh.\")\n",
    "o3d.visualization.draw_geometries(\n",
    "    [mesh_box + mesh_sphere + mesh_cylinder + mesh_frame])"
   ]
  },
  {
   "cell_type": "markdown",
   "metadata": {},
   "source": [
    "### Draw a line set\n",
    "To draw lines, it is necessary to define a **LineSet** with a set of points and a set of edges (pairs of point indices). The example below creates custom points and edges (denoted as **lines**) to make a box. Color is optional - red color \\[1,0,0\\] is assigned to each edge in this example."
   ]
  },
  {
   "cell_type": "code",
   "execution_count": 12,
   "metadata": {},
   "outputs": [
    {
     "name": "stdout",
     "output_type": "stream",
     "text": [
      "Let's draw a box using o3d.geometry.LineSet.\n"
     ]
    }
   ],
   "source": [
    "print(\"Let's draw a box using o3d.geometry.LineSet.\")\n",
    "points = [\n",
    "    [0, 0, 0],\n",
    "    [1, 0, 0],\n",
    "    [0, 1, 0],\n",
    "    [1, 1, 0],\n",
    "    [0, 0, 1],\n",
    "    [1, 0, 1],\n",
    "    [0, 1, 1],\n",
    "    [1, 1, 1],\n",
    "]\n",
    "lines = [\n",
    "    [0, 1],\n",
    "    [0, 2],\n",
    "    [1, 3],\n",
    "    [2, 3],\n",
    "    [4, 5],\n",
    "    [4, 6],\n",
    "    [5, 7],\n",
    "    [6, 7],\n",
    "    [0, 4],\n",
    "    [1, 5],\n",
    "    [2, 6],\n",
    "    [3, 7],\n",
    "]\n",
    "colors = [[1, 0, 0] for i in range(len(lines))]\n",
    "line_set = o3d.geometry.LineSet(\n",
    "    points=o3d.utility.Vector3dVector(points),\n",
    "    lines=o3d.utility.Vector2iVector(lines),\n",
    ")\n",
    "line_set.colors = o3d.utility.Vector3dVector(colors)\n",
    "o3d.visualization.draw_geometries([line_set]) # why zoom option not working?"
   ]
  },
  {
   "cell_type": "code",
   "execution_count": null,
   "metadata": {},
   "outputs": [],
   "source": []
  }
 ],
 "metadata": {
  "kernelspec": {
   "name": "python37",
   "display_name": "Python 3.7.9 64-bit ('py37': conda)"
  },
  "language_info": {
   "codemirror_mode": {
    "name": "ipython",
    "version": 3
   },
   "file_extension": ".py",
   "mimetype": "text/x-python",
   "name": "python",
   "nbconvert_exporter": "python",
   "pygments_lexer": "ipython3",
   "version": "3.7.9"
  }
 },
 "nbformat": 4,
 "nbformat_minor": 2
}