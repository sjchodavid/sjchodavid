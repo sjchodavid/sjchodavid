{
 "cells": [
  {
   "cell_type": "markdown",
   "source": [
    "### ICP registration\r\n",
    "This tutorial demonstrates the ICP (Iterative Closest Point) registration algorithm. It has been a mainstay of geometric registration in both research and industry for many years. It has been a mainstay of geometric registration in both research and industry for many years."
   ],
   "metadata": {}
  },
  {
   "cell_type": "code",
   "execution_count": null,
   "source": [
    "import open3d as o3d \r\n",
    "import numpy as np \r\n",
    "import matplotlib.pyplot as plt \r\n",
    "import copy\r\n",
    "import Open3D.examples.python.open3d_tutorial as o3dtut\r\n",
    "import time"
   ],
   "outputs": [],
   "metadata": {}
  }
 ],
 "metadata": {
  "orig_nbformat": 4,
  "language_info": {
   "name": "python"
  }
 },
 "nbformat": 4,
 "nbformat_minor": 2
}